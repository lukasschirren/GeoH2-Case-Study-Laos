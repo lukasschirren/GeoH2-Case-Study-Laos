{
 "cells": [
  {
   "cell_type": "code",
   "execution_count": 8,
   "metadata": {},
   "outputs": [],
   "source": [
    "import matplotlib as mpl\n",
    "import matplotlib.pyplot as plt\n",
    "import numpy as np\n",
    "import geopandas as gpd\n",
    "\n",
    "from lonboard import PolygonLayer, Map\n",
    "from lonboard.experimental import TextLayer\n",
    "# from lonboard.traits import ColorAccessor, FloatAccessor\n",
    "\n",
    "import os"
   ]
  },
  {
   "cell_type": "markdown",
   "metadata": {},
   "source": [
    "# 1 Scenarios to HTML"
   ]
  },
  {
   "cell_type": "markdown",
   "metadata": {},
   "source": [
    "## Adaptions of Function"
   ]
  },
  {
   "cell_type": "markdown",
   "metadata": {},
   "source": [
    "### Treshold"
   ]
  },
  {
   "cell_type": "code",
   "execution_count": 2,
   "metadata": {},
   "outputs": [],
   "source": [
    "\n",
    "def filter_columns_by_suffix(gdf, suffixes):\n",
    "    # Create a new dictionary to hold the filtered columns\n",
    "    filtered_columns = {}\n",
    "    \n",
    "    for suffix in suffixes:\n",
    "        matching_columns = [col for col in gdf.columns if col.endswith(suffix)]\n",
    "        if matching_columns:\n",
    "            filtered_columns[suffix] = matching_columns[0]  # Take the first match if multiple exist\n",
    "\n",
    "    # Return a new GeoDataFrame with only the filtered columns plus 'geometry'\n",
    "    return gdf[[filtered_columns[suffix] for suffix in suffixes] + ['geometry']]\n",
    "\n",
    "def save_html_maps(input_paths, output_folder, scenario_prefix):\n",
    "    for input_path in input_paths:\n",
    "        # Load the GeoJSON file\n",
    "        gdf = gpd.read_file(input_path)\n",
    "\n",
    "        # Define the suffixes to look for\n",
    "        suffixes = [\n",
    "            'trucking production cost',\n",
    "            'trucking solar capacity',\n",
    "            'trucking wind capacity',\n",
    "            'trucking hydro capacity',\n",
    "            'trucking electrolyzer capacity',\n",
    "            'trucking battery capacity'\n",
    "        ]\n",
    "\n",
    "        # Filter the GeoDataFrame by suffixes\n",
    "        gdf = filter_columns_by_suffix(gdf, suffixes)\n",
    "\n",
    "        # Define the threshold for the 95th percentile\n",
    "        threshold = gdf[gdf.columns[0]].quantile(0.95)  # Use the first column which is the production cost\n",
    "\n",
    "        # Cap the values at the 95th percentile (done separately from gdf)\n",
    "        clipped_costs = np.minimum(gdf[gdf.columns[0]], threshold)\n",
    "\n",
    "        min_cost = clipped_costs.min()\n",
    "        max_cost = clipped_costs.max()\n",
    "\n",
    "        def normalize(value, min_value, max_value):\n",
    "            return (value - min_value) / (max_value - min_value)\n",
    "\n",
    "        def map_to_color(value):\n",
    "            if np.isnan(value):  # Check for null values\n",
    "                return [192, 192, 192, 255]  # Fully opaque grey for null values\n",
    "            else:\n",
    "                norm_value = normalize(value, min_cost, max_cost)\n",
    "                rgba = plt.cm.Greens_r(norm_value)  # Reverse 'Greens' colormap\n",
    "                return (np.array(rgba[:3]) * 255).astype(np.uint8).tolist() + [255]  # Fully opaque color\n",
    "\n",
    "        def map_to_border_color(value):\n",
    "            if np.isnan(value):  # If production cost is null\n",
    "                return [0, 0, 0, 0]  # Transparent (no border)\n",
    "            else:\n",
    "                return [0, 0, 0, 255]  # Solid black border\n",
    "\n",
    "        # Apply the color mapping without adding columns to gdf\n",
    "        colors = np.array([map_to_color(val) for val in gdf['Vientiane trucking production cost']], dtype=np.uint8)\n",
    "        border_colors = np.array([map_to_border_color(val) for val in gdf['Vientiane trucking production cost']], dtype=np.uint8)\n",
    "\n",
    "\n",
    "        # Define the layer\n",
    "        layer = PolygonLayer.from_geopandas(\n",
    "            gdf,\n",
    "            get_fill_color=colors,\n",
    "            get_line_color=border_colors,\n",
    "            get_line_width=1.0,\n",
    "            line_width_min_pixels=True,\n",
    "            stroked=True,\n",
    "            pickable=True,\n",
    "            auto_highlight=True\n",
    "        )\n",
    "\n",
    "        # Create the map\n",
    "        m = Map(layers=[layer])\n",
    "\n",
    "        # Define the output path\n",
    "        folder_name = os.path.basename(os.path.dirname(input_path))\n",
    "        scenario_name = f\"{scenario_prefix}_{folder_name}\"\n",
    "        output_path = os.path.join(output_folder, f\"{scenario_name}_map.html\")\n",
    "\n",
    "        # Check if the file already exists and overwrite if necessary\n",
    "        if os.path.exists(output_path):\n",
    "            os.remove(output_path)\n",
    "\n",
    "        # Save the map as an HTML file\n",
    "        m.to_html(filename=output_path)"
   ]
  },
  {
   "cell_type": "markdown",
   "metadata": {},
   "source": [
    "### Fixed Color Scale"
   ]
  },
  {
   "cell_type": "code",
   "execution_count": 10,
   "metadata": {},
   "outputs": [],
   "source": [
    "def filter_columns_by_suffix(gdf, suffixes):\n",
    "    # Create a new dictionary to hold the filtered columns\n",
    "    filtered_columns = {}\n",
    "    \n",
    "    for suffix in suffixes:\n",
    "        matching_columns = [col for col in gdf.columns if col.endswith(suffix)]\n",
    "        if matching_columns:\n",
    "            filtered_columns[suffix] = matching_columns[0]  # Take the first match if multiple exist\n",
    "\n",
    "    # Return a new GeoDataFrame with only the filtered columns plus 'geometry'\n",
    "    return gdf[[filtered_columns[suffix] for suffix in suffixes] + ['geometry']]\n",
    "\n",
    "def save_html_maps(input_paths, output_folder, scenario_prefix,transport, min_value=1, max_value=15):\n",
    "    for input_path in input_paths:\n",
    "        # Load the GeoJSON file\n",
    "        gdf = gpd.read_file(input_path)\n",
    "\n",
    "        # Define the suffixes to look for\n",
    "        suffixes = [\n",
    "            transport + ' production cost',\n",
    "            transport + ' solar capacity',\n",
    "            transport + ' wind capacity',\n",
    "            transport + ' hydro capacity',\n",
    "            transport + ' electrolyzer capacity',\n",
    "            transport + ' battery capacity'\n",
    "        ]\n",
    "\n",
    "        # Filter the GeoDataFrame by suffixes\n",
    "        gdf = filter_columns_by_suffix(gdf, suffixes)\n",
    "\n",
    "        def normalize(value, min_value, max_value):\n",
    "            return (value - min_value) / (max_value - min_value)\n",
    "\n",
    "        def map_to_color(value):\n",
    "            if np.isnan(value):  # Check for null values\n",
    "                return [192, 192, 192, 255]  # Fully opaque grey for null values\n",
    "            else:\n",
    "                norm_value = normalize(value, min_value, max_value)\n",
    "                rgba = plt.cm.Greens_r(norm_value)  # Reverse 'Greens' colormap\n",
    "                return (np.array(rgba[:3]) * 255).astype(np.uint8).tolist() + [255]  # Fully opaque color\n",
    "\n",
    "        def map_to_border_color(value):\n",
    "            if np.isnan(value):  # If production cost is null\n",
    "                return [0, 0, 0, 0]  # Transparent (no border)\n",
    "            else:\n",
    "                return [0, 0, 0, 255]  # Solid black border\n",
    "\n",
    "        # Apply the color mapping\n",
    "        production_cost_column = \"Vientiane \" + transport + \" production cost\"\n",
    "        colors = np.array([map_to_color(val) for val in gdf[production_cost_column]], dtype=np.uint8)\n",
    "        border_colors = np.array([map_to_border_color(val) for val in gdf[production_cost_column]], dtype=np.uint8)\n",
    "\n",
    "        # Define the layer\n",
    "        layer = PolygonLayer.from_geopandas(\n",
    "            gdf,\n",
    "            get_fill_color=colors,\n",
    "            get_line_color=border_colors,\n",
    "            get_line_width=1.0,\n",
    "            line_width_min_pixels=True,\n",
    "            stroked=True,\n",
    "            pickable=True,\n",
    "            auto_highlight=True\n",
    "        )\n",
    "\n",
    "        # Create the map\n",
    "        m = Map(layers=[layer])\n",
    "\n",
    "        # Define the output path\n",
    "        folder_name = os.path.basename(os.path.dirname(input_path))\n",
    "        scenario_name = f\"{scenario_prefix}_{folder_name}\"\n",
    "        output_path = os.path.join(output_folder, f\"{scenario_name}_map.html\")\n",
    "\n",
    "        # Check if the file already exists and overwrite if necessary\n",
    "        if os.path.exists(output_path):\n",
    "            os.remove(output_path)\n",
    "\n",
    "        # Save the map as an HTML file\n",
    "        m.to_html(filename=output_path)"
   ]
  },
  {
   "cell_type": "code",
   "execution_count": 11,
   "metadata": {},
   "outputs": [],
   "source": [
    "input_paths = [\n",
    "    \"Resources\\\\0Temporal\\\\ratio_total\\\\2022\\\\hex_lcoh.geojson\",\n",
    "    \"Resources\\\\0Temporal\\\\ratio_total\\\\2025\\\\hex_lcoh.geojson\",\n",
    "    \"Resources\\\\0Temporal\\\\ratio_total\\\\2030\\\\hex_lcoh.geojson\",\n",
    "    \"Resources\\\\0Temporal\\\\ratio_total\\\\post_2030\\\\hex_lcoh.geojson\"\n",
    "]\n",
    "\n",
    "# Define the folder where the HTML maps will be saved\n",
    "output_folder = \"Laos_specific\\\\lonboard_maps\\\\temporal\"\n",
    "\n",
    "# Define a prefix to be used in the names of the output maps\n",
    "transport = \"pipeline\" # \"pipeline\"\n",
    "scenario_prefix = \"Total_\"\n",
    "\n",
    "# Set the minimum and maximum values for the color scale\n",
    "min_value = 2\n",
    "max_value = 12\n",
    "\n",
    "# Call the function to generate HTML maps\n",
    "save_html_maps(input_paths, output_folder, scenario_prefix, transport, min_value, max_value)"
   ]
  },
  {
   "cell_type": "markdown",
   "metadata": {},
   "source": [
    "## Temporal"
   ]
  },
  {
   "cell_type": "code",
   "execution_count": 9,
   "metadata": {},
   "outputs": [
    {
     "ename": "TypeError",
     "evalue": "save_html_maps() missing 2 required positional arguments: 'min_cost' and 'max_cost'",
     "output_type": "error",
     "traceback": [
      "\u001b[1;31m---------------------------------------------------------------------------\u001b[0m",
      "\u001b[1;31mTypeError\u001b[0m                                 Traceback (most recent call last)",
      "Cell \u001b[1;32mIn[9], line 11\u001b[0m\n\u001b[0;32m      8\u001b[0m output_folder \u001b[38;5;241m=\u001b[39m \u001b[38;5;124m\"\u001b[39m\u001b[38;5;124mLaos_specific\u001b[39m\u001b[38;5;130;01m\\\\\u001b[39;00m\u001b[38;5;124mlonboard_maps\u001b[39m\u001b[38;5;130;01m\\\\\u001b[39;00m\u001b[38;5;124mtemporal\u001b[39m\u001b[38;5;124m\"\u001b[39m\n\u001b[0;32m      9\u001b[0m scenario_prefix \u001b[38;5;241m=\u001b[39m \u001b[38;5;124m\"\u001b[39m\u001b[38;5;124mTotal_\u001b[39m\u001b[38;5;124m\"\u001b[39m\n\u001b[1;32m---> 11\u001b[0m \u001b[43msave_html_maps\u001b[49m\u001b[43m(\u001b[49m\u001b[43minput_paths\u001b[49m\u001b[43m,\u001b[49m\u001b[43m \u001b[49m\u001b[43moutput_folder\u001b[49m\u001b[43m,\u001b[49m\u001b[43m \u001b[49m\u001b[43mscenario_prefix\u001b[49m\u001b[43m)\u001b[49m\n",
      "\u001b[1;31mTypeError\u001b[0m: save_html_maps() missing 2 required positional arguments: 'min_cost' and 'max_cost'"
     ]
    }
   ],
   "source": [
    "input_paths = [\n",
    "    \"Resources\\\\0Temporal\\\\ratio_total\\\\2022\\\\hex_lcoh.geojson\",\n",
    "    \"Resources\\\\0Temporal\\\\ratio_total\\\\2025\\\\hex_lcoh.geojson\",\n",
    "    \"Resources\\\\0Temporal\\\\ratio_total\\\\2030\\\\hex_lcoh.geojson\",\n",
    "    \"Resources\\\\0Temporal\\\\ratio_total\\\\post_2030\\\\hex_lcoh.geojson\"\n",
    "]\n",
    "\n",
    "output_folder = \"Laos_specific\\\\lonboard_maps\\\\temporal\"\n",
    "scenario_prefix = \"Total_\"\n",
    "\n",
    "save_html_maps(input_paths, output_folder, scenario_prefix)"
   ]
  },
  {
   "cell_type": "markdown",
   "metadata": {},
   "source": [
    "## Spatial"
   ]
  },
  {
   "cell_type": "code",
   "execution_count": null,
   "metadata": {},
   "outputs": [],
   "source": [
    "input_paths = [\n",
    "    \"Resources\\\\0Spatial\\\\ratio_total\\\\Central\\\\hex_lcoh.geojson\",\n",
    "    \"Resources\\\\0Spatial\\\\ratio_total\\\\Northern\\\\hex_lcoh.geojson\",\n",
    "    \"Resources\\\\0Spatial\\\\ratio_total\\\\Southern\\\\hex_lcoh.geojson\",\n",
    "]\n",
    "\n",
    "output_folder = \"Laos_specific\\\\lonboard_maps\\\\spatial\"\n",
    "scenario_prefix = \"Total_\"\n",
    "\n",
    "save_html_maps(input_paths, output_folder, scenario_prefix)"
   ]
  },
  {
   "cell_type": "markdown",
   "metadata": {},
   "source": [
    "# 2 Testing"
   ]
  },
  {
   "cell_type": "code",
   "execution_count": 15,
   "metadata": {},
   "outputs": [
    {
     "name": "stdout",
     "output_type": "stream",
     "text": [
      "Global Min Value: 2.1760219567165024\n",
      "Global Max Value: 87.72803879603721\n"
     ]
    }
   ],
   "source": [
    "def calculate_global_min_max(input_paths, column_name):\n",
    "    all_values = []\n",
    "\n",
    "    # Iterate through each file path\n",
    "    for input_path in input_paths:\n",
    "        # Load the GeoJSON file\n",
    "        gdf = gpd.read_file(input_path)\n",
    "        \n",
    "        # Extract values from the specified column and append to the list\n",
    "        if column_name in gdf.columns:\n",
    "            values = gdf[column_name].dropna()  # Drop NaN values\n",
    "            all_values.extend(values)\n",
    "        else:\n",
    "            print(f\"Column '{column_name}' not found in {input_path}\")\n",
    "\n",
    "    # Convert list to numpy array for min and max calculation\n",
    "    all_values_array = np.array(all_values)\n",
    "    \n",
    "    # Calculate global min and max values\n",
    "    min_value = np.min(all_values_array) if len(all_values_array) > 0 else np.nan\n",
    "    max_value = np.max(all_values_array) if len(all_values_array) > 0 else np.nan\n",
    "    \n",
    "    return min_value, max_value\n",
    "\n",
    "column_name = 'Vientiane trucking production cost'\n",
    "min_value, max_value = calculate_global_min_max(input_paths, column_name)\n",
    "print(f\"Global Min Value: {min_value}\")\n",
    "print(f\"Global Max Value: {max_value}\")"
   ]
  },
  {
   "cell_type": "markdown",
   "metadata": {},
   "source": [
    "## 2.1 Simple plot"
   ]
  },
  {
   "cell_type": "code",
   "execution_count": null,
   "metadata": {},
   "outputs": [],
   "source": []
  },
  {
   "cell_type": "markdown",
   "metadata": {},
   "source": [
    "## 2.2 With Treshold Value"
   ]
  },
  {
   "cell_type": "code",
   "execution_count": 4,
   "metadata": {},
   "outputs": [],
   "source": [
    "gdf = gpd.read_file(r'Resources\\\\0Temporal\\\\ratio_total\\\\2022\\\\hex_lcoh.geojson')\n",
    "\n",
    "columns_to_keep = [\n",
    "    'Vientiane trucking production cost',\n",
    "    'Vientiane trucking solar capacity',\n",
    "    'Vientiane trucking wind capacity',\n",
    "    'Vientiane trucking hydro capacity',\n",
    "    'Vientiane trucking electrolyzer capacity',\n",
    "    'Vientiane trucking battery capacity',\n",
    "    'geometry'  # Ensure to keep the 'geometry' column as well\n",
    "]\n",
    "\n",
    "# Filter the GeoDataFrame to only keep the specified columns\n",
    "gdf = gdf[columns_to_keep]"
   ]
  },
  {
   "cell_type": "code",
   "execution_count": 5,
   "metadata": {},
   "outputs": [
    {
     "data": {
      "text/plain": [
       "np.float64(12.426042732118354)"
      ]
     },
     "execution_count": 5,
     "metadata": {},
     "output_type": "execute_result"
    }
   ],
   "source": [
    "gdf['Vientiane trucking production cost'].quantile(0.95)"
   ]
  },
  {
   "cell_type": "code",
   "execution_count": 26,
   "metadata": {},
   "outputs": [
    {
     "data": {
      "application/vnd.jupyter.widget-view+json": {
       "model_id": "ca860fd1c46a47efaf6d626914d4c3a0",
       "version_major": 2,
       "version_minor": 1
      },
      "text/plain": [
       "Map(layers=[PolygonLayer(auto_highlight=True, get_fill_color=<pyarrow.lib.FixedSizeListArray object at 0x00000…"
      ]
     },
     "execution_count": 26,
     "metadata": {},
     "output_type": "execute_result"
    }
   ],
   "source": [
    "# Specify the threshold value\n",
    "threshold_value = 10\n",
    "\n",
    "# Set the production cost above the threshold to NaN\n",
    "gdf.loc[gdf['Vientiane trucking production cost'] > threshold_value, 'Vientiane trucking production cost'] = np.nan\n",
    "\n",
    "# Define the threshold for the 95th percentile (after setting high values to NaN)\n",
    "threshold = gdf['Vientiane trucking production cost'].quantile(0.95)\n",
    "\n",
    "# Cap the values at the 95th percentile (done separately from gdf)\n",
    "clipped_costs = np.minimum(gdf['Vientiane trucking production cost'], threshold)\n",
    "\n",
    "min_cost = clipped_costs.min()\n",
    "max_cost = clipped_costs.max()\n",
    "\n",
    "def normalize(value, min_value, max_value):\n",
    "    return (value - min_value) / (max_value - min_value)\n",
    "\n",
    "greens_custom = mpl.colors.LinearSegmentedColormap.from_list(\n",
    "    'greens_custom', \n",
    "    plt.cm.Greens(np.linspace(0.2, 0.8, 256))  # Adjust the range to make light colors darker\n",
    ")\n",
    "\n",
    "def map_to_color(value):\n",
    "    if np.isnan(value):  # Check for null values\n",
    "        return [192, 192, 192, 255]  # Fully opaque grey for null values\n",
    "    else:\n",
    "        norm_value = normalize(value, min_cost, max_cost)\n",
    "        rgba = greens_custom(1 - norm_value)  # Use the custom colormap\n",
    "        return (np.array(rgba[:3]) * 255).astype(np.uint8).tolist() + [255] \n",
    "\n",
    "def map_to_border_color(value):\n",
    "    if np.isnan(value):  # If production cost is null\n",
    "        return [0, 0, 0, 0]  # Transparent (no border)\n",
    "    else:\n",
    "        return [0, 0, 0, 255]  # Solid black border\n",
    "\n",
    "# Apply the color mapping to the DataFrame\n",
    "colors = np.array([map_to_color(val) for val in gdf['Vientiane trucking production cost']], dtype=np.uint8)\n",
    "border_colors = np.array([map_to_border_color(val) for val in gdf['Vientiane trucking production cost']], dtype=np.uint8)\n",
    "\n",
    "# Create the PolygonLayer\n",
    "layer = PolygonLayer.from_geopandas(\n",
    "    gdf,\n",
    "    get_fill_color=colors,\n",
    "    get_line_color=border_colors,\n",
    "    get_line_width=1.0,\n",
    "    line_width_min_pixels=True,\n",
    "    stroked=True,\n",
    "    pickable=True,\n",
    "    auto_highlight=True\n",
    ")\n",
    "\n",
    "# Create and display the map\n",
    "m = Map(layers=[layer])\n",
    "\n",
    "# Show the map\n",
    "m"
   ]
  },
  {
   "cell_type": "markdown",
   "metadata": {},
   "source": [
    "## 2.3 Adding a Colorbar"
   ]
  },
  {
   "cell_type": "code",
   "execution_count": 9,
   "metadata": {},
   "outputs": [
    {
     "data": {
      "image/png": "[encoded data removed]",
      "text/plain": [
       "<Figure size 20x200 with 1 Axes>"
      ]
     },
     "metadata": {},
     "output_type": "display_data"
    }
   ],
   "source": [
    "import matplotlib.pyplot as plt\n",
    "import numpy as np\n",
    "\n",
    "# Assuming 'clipped_costs' contains the capped production cost values\n",
    "min_cost = clipped_costs.min()  # Define min_cost based on your capped data\n",
    "max_cost = clipped_costs.max()  # Define max_cost based on your capped data\n",
    "\n",
    "# Step 1: Generate the Color Scale Legend\n",
    "fig, ax = plt.subplots(figsize=(0.2, 2))  # Reduce width of figsize\n",
    "\n",
    "# Create a color scale based on the Greens_r colormap\n",
    "cmap = plt.cm.Greens_r\n",
    "norm = plt.Normalize(vmin=min_cost, vmax=max_cost)\n",
    "\n",
    "# Create a colorbar with the specified colormap and normalization\n",
    "colorbar = plt.colorbar(\n",
    "    plt.cm.ScalarMappable(norm=norm, cmap=cmap),\n",
    "    cax=ax,\n",
    "    orientation='vertical'\n",
    ")\n",
    "\n",
    "# Set the label for the colorbar with smaller fontsize\n",
    "colorbar.set_label('Production Cost', fontsize=10)\n",
    "\n",
    "# Add custom ticks and labels to show specific production cost values\n",
    "tick_values = np.linspace(min_cost, max_cost, num=5)  # Generate 5 ticks\n",
    "colorbar.set_ticks(tick_values)  # Set custom ticks\n",
    "\n",
    "# Format ticks to remove decimals and set smaller fontsize\n",
    "colorbar.ax.yaxis.set_major_formatter(plt.FuncFormatter(lambda x, _: f'{int(x)}'))\n",
    "colorbar.ax.tick_params(labelsize=8)  # Reduce the font size of tick labels\n",
    "\n",
    "# Save the colorbar as an image\n",
    "plt.savefig('color_scale_legend.png', bbox_inches='tight')\n",
    "\n",
    "# Create HTML content for saving\n",
    "html_content = f\"\"\"\n",
    "<div style=\"display: flex;\">\n",
    "    <div>{m.to_html()}</div>\n",
    "    <div><img src=\"color_scale_legend.png\" alt=\"Color Scale Legend\" style=\"margin-left: 10px;\"></div>\n",
    "</div>\n",
    "\"\"\"\n",
    "\n",
    "# Save the HTML content to a file\n",
    "with open(\"map_with_legend.html\", \"w\") as f:\n",
    "    f.write(html_content)\n"
   ]
  }
 ],
 "metadata": {
  "kernelspec": {
   "display_name": ".venv",
   "language": "python",
   "name": "python3"
  },
  "language_info": {
   "codemirror_mode": {
    "name": "ipython",
    "version": 3
   },
   "file_extension": ".py",
   "mimetype": "text/x-python",
   "name": "python",
   "nbconvert_exporter": "python",
   "pygments_lexer": "ipython3",
   "version": "3.11.9"
  }
 },
 "nbformat": 4,
 "nbformat_minor": 2
}
